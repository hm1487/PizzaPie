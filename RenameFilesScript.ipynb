{
 "cells": [
  {
   "cell_type": "code",
   "execution_count": 1,
   "metadata": {
    "collapsed": true
   },
   "outputs": [],
   "source": [
    "import os"
   ]
  },
  {
   "cell_type": "code",
   "execution_count": 8,
   "metadata": {},
   "outputs": [
    {
     "ename": "SyntaxError",
     "evalue": "invalid syntax (<ipython-input-8-0b3cd8f67606>, line 2)",
     "output_type": "error",
     "traceback": [
      "\u001b[1;36m  File \u001b[1;32m\"<ipython-input-8-0b3cd8f67606>\"\u001b[1;36m, line \u001b[1;32m2\u001b[0m\n\u001b[1;33m    os.rename(\"\\Users\\PwintMin\\Documents\\Github\\PizzaPie\" + \"\\\" + filename,\"PizzaTest\" + str(i))\u001b[0m\n\u001b[1;37m                                                                                    ^\u001b[0m\n\u001b[1;31mSyntaxError\u001b[0m\u001b[1;31m:\u001b[0m invalid syntax\n"
     ]
    }
   ],
   "source": [
    "import warnings   \n",
    "nimage = 210 #Number of photos that you want to change\n",
    "i = 0\n",
    "nrow = 224\n",
    "ncol = 224\n",
    "dir_name = '/Users/Htoo Min/Documents/GitHub/PizzaPie/Test' #Also change depending on what computer you are on\n",
    "#Converts the names of the images\n",
    "for photo in os.listdir(dir_name):\n",
    "    print(\"path\", dir_name, \"filename\", photo, dir_name+\"/\"+photo)  \n",
    "    \n",
    "    # Read image from file\n",
    "    im = skimage.io.imread(dir_name+\"/\"+photo)\n",
    "        \n",
    "    # Resize images\n",
    "    im1 = skimage.transform.resize(im,(nrow,ncol),mode='constant')\n",
    "                \n",
    "    # Convert to uint8, suppress the warning about the precision loss\n",
    "    with warnings.catch_warnings():\n",
    "        warnings.simplefilter(\"ignore\")\n",
    "        im2 = skimage.img_as_ubyte(im1)\n",
    "    \n",
    "    # Save the image\n",
    "    local_name = '{0:s}/{1:s}_{2:04d}.jpg'.format(dir_name,\"pizza\", i)   #Will name items in format pizza_000n\n",
    "    print(\"lcl\", local_name)\n",
    "    skimage.io.imsave(local_name, im2)      \n",
    "    print(local_name)\n",
    "    i = i + 1        \n",
    "    if (i >= nimage):        \n",
    "        break"
   ]
  },
  {
   "cell_type": "code",
   "execution_count": null,
   "metadata": {
    "collapsed": true
   },
   "outputs": [],
   "source": []
  }
 ],
 "metadata": {
  "kernelspec": {
   "display_name": "Python 3",
   "language": "python",
   "name": "python3"
  },
  "language_info": {
   "codemirror_mode": {
    "name": "ipython",
    "version": 3
   },
   "file_extension": ".py",
   "mimetype": "text/x-python",
   "name": "python",
   "nbconvert_exporter": "python",
   "pygments_lexer": "ipython3",
   "version": "3.6.1"
  }
 },
 "nbformat": 4,
 "nbformat_minor": 2
}
