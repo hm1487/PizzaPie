{
 "cells": [
  {
   "cell_type": "code",
   "execution_count": 2,
   "metadata": {
    "collapsed": true
   },
   "outputs": [],
   "source": [
    "import os\n",
    "import skimage.io\n",
    "import skimage.transform"
   ]
  },
  {
   "cell_type": "code",
   "execution_count": 3,
   "metadata": {},
   "outputs": [
    {
     "name": "stdout",
     "output_type": "stream",
     "text": [
      "path /Users/Htoo Min/Documents/GitHub/PizzaPie/Pictures filename IMG_1928.JPG /Users/Htoo Min/Documents/GitHub/PizzaPie/Pictures/IMG_1928.JPG\n",
      "lcl /Users/Htoo Min/Documents/GitHub/PizzaPie/Pictures/pizza_0000.jpg\n",
      "/Users/Htoo Min/Documents/GitHub/PizzaPie/Pictures/pizza_0000.jpg\n",
      "path /Users/Htoo Min/Documents/GitHub/PizzaPie/Pictures filename IMG_1929.JPG /Users/Htoo Min/Documents/GitHub/PizzaPie/Pictures/IMG_1929.JPG\n",
      "lcl /Users/Htoo Min/Documents/GitHub/PizzaPie/Pictures/pizza_0001.jpg\n",
      "/Users/Htoo Min/Documents/GitHub/PizzaPie/Pictures/pizza_0001.jpg\n",
      "path /Users/Htoo Min/Documents/GitHub/PizzaPie/Pictures filename IMG_1930.JPG /Users/Htoo Min/Documents/GitHub/PizzaPie/Pictures/IMG_1930.JPG\n",
      "lcl /Users/Htoo Min/Documents/GitHub/PizzaPie/Pictures/pizza_0002.jpg\n",
      "/Users/Htoo Min/Documents/GitHub/PizzaPie/Pictures/pizza_0002.jpg\n",
      "path /Users/Htoo Min/Documents/GitHub/PizzaPie/Pictures filename IMG_1931.JPG /Users/Htoo Min/Documents/GitHub/PizzaPie/Pictures/IMG_1931.JPG\n",
      "lcl /Users/Htoo Min/Documents/GitHub/PizzaPie/Pictures/pizza_0003.jpg\n",
      "/Users/Htoo Min/Documents/GitHub/PizzaPie/Pictures/pizza_0003.jpg\n",
      "path /Users/Htoo Min/Documents/GitHub/PizzaPie/Pictures filename IMG_1932.JPG /Users/Htoo Min/Documents/GitHub/PizzaPie/Pictures/IMG_1932.JPG\n",
      "lcl /Users/Htoo Min/Documents/GitHub/PizzaPie/Pictures/pizza_0004.jpg\n",
      "/Users/Htoo Min/Documents/GitHub/PizzaPie/Pictures/pizza_0004.jpg\n"
     ]
    }
   ],
   "source": [
    "import warnings   \n",
    "nimage = 408 #Number of photos that you want to change\n",
    "i = 0\n",
    "nrow = 224\n",
    "ncol = 224\n",
    "dir_name = '/Users/Htoo Min/Documents/GitHub/PizzaPie/Pictures' #Also change depending on what computer you are on\n",
    "#Converts the names of the images\n",
    "for photo in os.listdir(dir_name):\n",
    "    print(\"path\", dir_name, \"filename\", photo, dir_name+\"/\"+photo)  \n",
    "    \n",
    "    # Read image from file\n",
    "    im = skimage.io.imread(dir_name+\"/\"+photo)\n",
    "        \n",
    "    # Resize images\n",
    "    im1 = skimage.transform.resize(im,(nrow,ncol),mode='constant')\n",
    "                \n",
    "    # Convert to uint8, suppress the warning about the precision loss\n",
    "    with warnings.catch_warnings():\n",
    "        warnings.simplefilter(\"ignore\")\n",
    "        im2 = skimage.img_as_ubyte(im1)\n",
    "    \n",
    "    # Save the image\n",
    "    local_name = '{0:s}/{1:s}_{2:04d}.jpg'.format(dir_name,\"pizza\", i)   #Will name items in format pizza_000n\n",
    "    print(\"lcl\", local_name)\n",
    "    skimage.io.imsave(local_name, im2)      \n",
    "    print(local_name)\n",
    "    i = i + 1        \n",
    "    if (i >= nimage):        \n",
    "        break"
   ]
  },
  {
   "cell_type": "code",
   "execution_count": null,
   "metadata": {
    "collapsed": true
   },
   "outputs": [],
   "source": []
  }
 ],
 "metadata": {
  "kernelspec": {
   "display_name": "Python 3",
   "language": "python",
   "name": "python3"
  },
  "language_info": {
   "codemirror_mode": {
    "name": "ipython",
    "version": 3
   },
   "file_extension": ".py",
   "mimetype": "text/x-python",
   "name": "python",
   "nbconvert_exporter": "python",
   "pygments_lexer": "ipython3",
   "version": "3.6.1"
  }
 },
 "nbformat": 4,
 "nbformat_minor": 2
}
